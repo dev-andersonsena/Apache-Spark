{
 "cells": [
  {
   "cell_type": "code",
   "execution_count": 36,
   "id": "1c1c2138-9340-45e7-842b-0c7cdd31a712",
   "metadata": {},
   "outputs": [],
   "source": [
    "import os\n",
    "os.environ[\"SPARK_HOME\"] = \"C:\\\\Users\\\\ander\\\\Desktop\\\\hadoop\\\\Spark\\\\spark-3.5.4-bin-hadoop3\"\n",
    "os.environ[\"JAVA_HOME\"] = r\"C:\\Program Files\\Java\\jre1.8.0_431\"\n"
   ]
  },
  {
   "cell_type": "code",
   "execution_count": 37,
   "id": "f481401b",
   "metadata": {},
   "outputs": [],
   "source": [
    "import findspark\n",
    "findspark.init()"
   ]
  },
  {
   "cell_type": "code",
   "execution_count": 38,
   "id": "7cbe2566-2c1f-441f-aa06-141cddf9235a",
   "metadata": {},
   "outputs": [],
   "source": [
    "from pyspark.sql import SparkSession\n"
   ]
  },
  {
   "cell_type": "code",
   "execution_count": 39,
   "id": "95b9dbcf-e21f-4cad-8f5f-99db89aa49bb",
   "metadata": {},
   "outputs": [],
   "source": [
    "spark = SparkSession.builder \\\n",
    "        .master('local[*]') \\\n",
    "        .appName(\"Iniciando o spark \") \\\n",
    "        .getOrCreate()"
   ]
  },
  {
   "cell_type": "code",
   "execution_count": 40,
   "id": "b27ec0fd-925e-4f47-be59-9ee2ce47b654",
   "metadata": {},
   "outputs": [
    {
     "data": {
      "text/html": [
       "\n",
       "            <div>\n",
       "                <p><b>SparkSession - in-memory</b></p>\n",
       "                \n",
       "        <div>\n",
       "            <p><b>SparkContext</b></p>\n",
       "\n",
       "            <p><a href=\"http://host.docker.internal:4040\">Spark UI</a></p>\n",
       "\n",
       "            <dl>\n",
       "              <dt>Version</dt>\n",
       "                <dd><code>v3.5.4</code></dd>\n",
       "              <dt>Master</dt>\n",
       "                <dd><code>local[*]</code></dd>\n",
       "              <dt>AppName</dt>\n",
       "                <dd><code>Iniciando o spark </code></dd>\n",
       "            </dl>\n",
       "        </div>\n",
       "        \n",
       "            </div>\n",
       "        "
      ],
      "text/plain": [
       "<pyspark.sql.session.SparkSession at 0x20cdb237fd0>"
      ]
     },
     "execution_count": 40,
     "metadata": {},
     "output_type": "execute_result"
    }
   ],
   "source": [
    "spark"
   ]
  },
  {
   "cell_type": "code",
   "execution_count": null,
   "id": "d0d4d09b",
   "metadata": {},
   "outputs": [],
   "source": [
    "#!apt-get install openjdk-8-jdk-headless -qq > /dev/null\n",
    "#!wget -q https://archive.apache.org/dist/spark/spark-3.1.2/spark-3.1.2-bin-hadoop2.7.tgz\n",
    "#!tar xf spark-3.1.2-bin-hadoop2.7.tgz\n",
    "#!pip install -q findspark \n",
    "\n",
    "# google colab\n",
    "# os.environ[\"JAVA_HOME\"] = \"/usr/lib/jvm/java-8-openjdk-amd64\"\n",
    "# os.environ[\"SPARK_HOME\"] = \"/content/spark-3.1.2-bin-hadoop2.7\"\n",
    "\n",
    "#import findspark\n",
    "#findspark.init()\n",
    "\n",
    "#from pyspark.sql import SparkSession\n",
    "\n",
    "#spark = SparkSession.builder \\\n",
    "        #.master('local[*]') \\\n",
    "        #.appName(\"Iniciando o spark \") \\\n",
    "        #.config('spark.ui.port', '4050') \\\n",
    "        #.getOrCreate()\n",
    "\n",
    "\n",
    "#  observação: mudança no ngrock, atualização de hoje requer autheticaation por token com uma conta logada. \n",
    "\n"
   ]
  },
  {
   "cell_type": "code",
   "execution_count": null,
   "id": "fb769dc4-6ced-4660-9a6e-2d71e449ac46",
   "metadata": {},
   "outputs": [],
   "source": []
  },
  {
   "cell_type": "code",
   "execution_count": null,
   "id": "a7c49a21-1c0f-4a1a-82f2-3e53ed0368e2",
   "metadata": {},
   "outputs": [],
   "source": []
  },
  {
   "cell_type": "code",
   "execution_count": null,
   "id": "5752a61b-670a-498b-97bc-71b8dc306f7c",
   "metadata": {},
   "outputs": [],
   "source": []
  }
 ],
 "metadata": {
  "kernelspec": {
   "display_name": "ambientevirtual",
   "language": "python",
   "name": "python3"
  },
  "language_info": {
   "codemirror_mode": {
    "name": "ipython",
    "version": 3
   },
   "file_extension": ".py",
   "mimetype": "text/x-python",
   "name": "python",
   "nbconvert_exporter": "python",
   "pygments_lexer": "ipython3",
   "version": "3.9.1"
  }
 },
 "nbformat": 4,
 "nbformat_minor": 5
}
